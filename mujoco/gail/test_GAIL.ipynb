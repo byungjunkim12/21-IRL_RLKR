{
 "cells": [
  {
   "cell_type": "code",
   "execution_count": 1,
   "metadata": {},
   "outputs": [],
   "source": [
    "import os\n",
    "import gym\n",
    "import pickle\n",
    "import argparse\n",
    "import numpy as np\n",
    "from collections import deque\n",
    "\n",
    "import torch\n",
    "import torch.optim as optim\n",
    "from tensorboardX import SummaryWriter \n",
    "\n",
    "from utils.utils import *\n",
    "from utils.zfilter import ZFilter\n",
    "from model import Actor, Critic, Discriminator\n",
    "from train_model import train_actor_critic, train_discrim\n",
    "\n"
   ]
  },
  {
   "cell_type": "code",
   "execution_count": 3,
   "metadata": {},
   "outputs": [
    {
     "data": {
      "text/plain": [
       "_StoreAction(option_strings=['--logdir'], dest='logdir', nargs=None, const=None, default='logs', type=<class 'str'>, choices=None, help='tensorboardx logs directory', metavar=None)"
      ]
     },
     "execution_count": 3,
     "metadata": {},
     "output_type": "execute_result"
    }
   ],
   "source": [
    "parser = argparse.ArgumentParser(description='PyTorch GAIL')\n",
    "parser.add_argument('--env_name', type=str, default=\"Hopper-v2\", \n",
    "                    help='name of the environment to run')\n",
    "parser.add_argument('--load_model', type=str, default=None, \n",
    "                    help='path to load the saved model')\n",
    "parser.add_argument('--render', action=\"store_true\", default=False, \n",
    "                    help='if you dont want to render, set this to False')\n",
    "parser.add_argument('--gamma', type=float, default=0.99, \n",
    "                    help='discounted factor (default: 0.99)')\n",
    "parser.add_argument('--lamda', type=float, default=0.98, \n",
    "                    help='GAE hyper-parameter (default: 0.98)')\n",
    "parser.add_argument('--hidden_size', type=int, default=100, \n",
    "                    help='hidden unit size of actor, critic and discrim networks (default: 100)')\n",
    "parser.add_argument('--learning_rate', type=float, default=3e-4, \n",
    "                    help='learning rate of models (default: 3e-4)')\n",
    "parser.add_argument('--l2_rate', type=float, default=1e-3, \n",
    "                    help='l2 regularizer coefficient (default: 1e-3)')\n",
    "parser.add_argument('--clip_param', type=float, default=0.2, \n",
    "                    help='clipping parameter for PPO (default: 0.2)')\n",
    "parser.add_argument('--discrim_update_num', type=int, default=2, \n",
    "                    help='update number of discriminator (default: 2)')\n",
    "parser.add_argument('--actor_critic_update_num', type=int, default=10, \n",
    "                    help='update number of actor-critic (default: 10)')\n",
    "parser.add_argument('--total_sample_size', type=int, default=2048, \n",
    "                    help='total sample size to collect before PPO update (default: 2048)')\n",
    "parser.add_argument('--batch_size', type=int, default=64, \n",
    "                    help='batch size to update (default: 64)')\n",
    "parser.add_argument('--suspend_accu_exp', type=float, default=0.8,\n",
    "                    help='accuracy for suspending discriminator about expert data (default: 0.8)')\n",
    "parser.add_argument('--suspend_accu_gen', type=float, default=0.8,\n",
    "                    help='accuracy for suspending discriminator about generated data (default: 0.8)')\n",
    "parser.add_argument('--max_iter_num', type=int, default=4000,\n",
    "                    help='maximal number of main iterations (default: 4000)')\n",
    "parser.add_argument('--seed', type=int, default=500,\n",
    "                    help='random seed (default: 500)')\n",
    "parser.add_argument('--logdir', type=str, default='logs',\n",
    "                    help='tensorboardx logs directory')\n",
    "# args = parser.parse_args()\n"
   ]
  },
  {
   "cell_type": "code",
   "execution_count": 6,
   "metadata": {},
   "outputs": [
    {
     "data": {
      "text/plain": [
       "ArgumentParser(prog='ipykernel_launcher.py', usage=None, description='PyTorch GAIL', formatter_class=<class 'argparse.HelpFormatter'>, conflict_handler='error', add_help=True)"
      ]
     },
     "execution_count": 6,
     "metadata": {},
     "output_type": "execute_result"
    }
   ],
   "source": []
  },
  {
   "cell_type": "code",
   "execution_count": null,
   "metadata": {},
   "outputs": [],
   "source": []
  }
 ],
 "metadata": {
  "interpreter": {
   "hash": "916dbcbb3f70747c44a77c7bcd40155683ae19c65e1c03b4aa3499c5328201f1"
  },
  "kernelspec": {
   "display_name": "IRL_RLKR",
   "language": "python",
   "name": "irl_rlkr"
  },
  "language_info": {
   "codemirror_mode": {
    "name": "ipython",
    "version": 3
   },
   "file_extension": ".py",
   "mimetype": "text/x-python",
   "name": "python",
   "nbconvert_exporter": "python",
   "pygments_lexer": "ipython3",
   "version": "3.8.10"
  }
 },
 "nbformat": 4,
 "nbformat_minor": 2
}
